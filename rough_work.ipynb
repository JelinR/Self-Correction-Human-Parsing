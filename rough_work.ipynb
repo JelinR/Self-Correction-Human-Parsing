{
 "cells": [
  {
   "cell_type": "markdown",
   "id": "793a3a02",
   "metadata": {},
   "source": [
    "### Download LIP Dataset"
   ]
  },
  {
   "cell_type": "code",
   "execution_count": null,
   "id": "a4682bfe",
   "metadata": {},
   "outputs": [
    {
     "name": "stderr",
     "output_type": "stream",
     "text": [
      "/mnt/anaconda3/envs/schp_mod/lib/python3.8/site-packages/tqdm/auto.py:21: TqdmWarning: IProgress not found. Please update jupyter and ipywidgets. See https://ipywidgets.readthedocs.io/en/stable/user_install.html\n",
      "  from .autonotebook import tqdm as notebook_tqdm\n"
     ]
    }
   ],
   "source": [
    "import kagglehub\n",
    "\n",
    "# path = kagglehub.dataset_download(\"roneoz/lip-dataset\")\n",
    "# path"
   ]
  },
  {
   "cell_type": "code",
   "execution_count": 9,
   "id": "31180c42",
   "metadata": {},
   "outputs": [
    {
     "name": "stdout",
     "output_type": "stream",
     "text": [
      "Num Files in train_images: 30462\n",
      "Num Files in train_segmentations: 30462\n",
      "Num Files in val_images: 10000\n",
      "Num Files in val_segmentations: 10000\n",
      "\n",
      "\n",
      "Num Image IDs in data/train_id.txt: 30462\n",
      "Num Image IDs in data/val_id.txt: 10000\n"
     ]
    }
   ],
   "source": [
    "import os\n",
    "\n",
    "check_path = \"data/\"\n",
    "\n",
    "check_dirs = [\"train_images\", \"train_segmentations\", \"val_images\", \"val_segmentations\"]\n",
    "for d in check_dirs:\n",
    "    dir_path = os.path.join(check_path, d)\n",
    "\n",
    "    print(f\"Num Files in {d}: {len(os.listdir(dir_path))}\")\n",
    "\n",
    "print(\"\\n\")\n",
    "\n",
    "check_txts = [\"train_id.txt\", \"val_id.txt\"]\n",
    "for t in check_txts:\n",
    "\n",
    "    txt_path = os.path.join(check_path, t)\n",
    "\n",
    "    with open(txt_path, \"r\") as f:\n",
    "        txt_data = f.readlines()\n",
    "\n",
    "    print(f\"Num Image IDs in {txt_path}: {len(txt_data)}\")"
   ]
  },
  {
   "cell_type": "markdown",
   "id": "dfd21716",
   "metadata": {},
   "source": [
    "### Rough"
   ]
  },
  {
   "cell_type": "code",
   "execution_count": 38,
   "id": "9907cf4a",
   "metadata": {},
   "outputs": [],
   "source": [
    "import numpy as np"
   ]
  },
  {
   "cell_type": "code",
   "execution_count": 47,
   "id": "e71263a9",
   "metadata": {},
   "outputs": [
    {
     "data": {
      "text/plain": [
       "array([[  0,   0,   0],\n",
       "       [128,   0,   0]])"
      ]
     },
     "execution_count": 47,
     "metadata": {},
     "output_type": "execute_result"
    }
   ],
   "source": [
    "def get_palette(num_cls):\n",
    "    \"\"\" Returns the color map for visualizing the segmentation mask.\n",
    "    Args:\n",
    "        num_cls: Number of classes\n",
    "    Returns:\n",
    "        The color map\n",
    "    \"\"\"\n",
    "    n = num_cls\n",
    "    palette = [0] * (n * 3)\n",
    "    for j in range(0, n):\n",
    "        lab = j\n",
    "        palette[j * 3 + 0] = 0\n",
    "        palette[j * 3 + 1] = 0\n",
    "        palette[j * 3 + 2] = 0\n",
    "        i = 0\n",
    "        while lab:\n",
    "            palette[j * 3 + 0] |= (((lab >> 0) & 1) << (7 - i))\n",
    "            palette[j * 3 + 1] |= (((lab >> 1) & 1) << (7 - i))\n",
    "            palette[j * 3 + 2] |= (((lab >> 2) & 1) << (7 - i))\n",
    "            i += 1\n",
    "            lab >>= 3\n",
    "    return palette\n",
    "\n",
    "\n",
    "num_cls = 2\n",
    "palette = get_palette(num_cls)\n",
    "arr = np.array([palette[k:k+3] for k in np.arange(0, num_cls*3, 3)])\n",
    "arr"
   ]
  },
  {
   "cell_type": "code",
   "execution_count": 31,
   "id": "2ed89b8d",
   "metadata": {},
   "outputs": [
    {
     "ename": "SyntaxError",
     "evalue": "invalid syntax (1603382187.py, line 7)",
     "output_type": "error",
     "traceback": [
      "\u001b[0;36m  Cell \u001b[0;32mIn[31], line 7\u001b[0;36m\u001b[0m\n\u001b[0;31m    print(lab >>= k_final)\u001b[0m\n\u001b[0m              ^\u001b[0m\n\u001b[0;31mSyntaxError\u001b[0m\u001b[0;31m:\u001b[0m invalid syntax\n"
     ]
    }
   ],
   "source": [
    "lab = 1\n",
    "k = 0\n",
    "k_final = 3\n",
    "\n",
    "print(lab >> k)\n",
    "print(lab << k)\n",
    "print(lab >>= k_final)"
   ]
  },
  {
   "cell_type": "code",
   "execution_count": 26,
   "id": "727ca7b2",
   "metadata": {},
   "outputs": [
    {
     "data": {
      "text/plain": [
       "3"
      ]
     },
     "execution_count": 26,
     "metadata": {},
     "output_type": "execute_result"
    }
   ],
   "source": [
    "lab << 0"
   ]
  },
  {
   "cell_type": "code",
   "execution_count": null,
   "id": "0cd13272",
   "metadata": {},
   "outputs": [],
   "source": []
  }
 ],
 "metadata": {
  "kernelspec": {
   "display_name": "schp_mod",
   "language": "python",
   "name": "python3"
  },
  "language_info": {
   "codemirror_mode": {
    "name": "ipython",
    "version": 3
   },
   "file_extension": ".py",
   "mimetype": "text/x-python",
   "name": "python",
   "nbconvert_exporter": "python",
   "pygments_lexer": "ipython3",
   "version": "3.8.20"
  }
 },
 "nbformat": 4,
 "nbformat_minor": 5
}
