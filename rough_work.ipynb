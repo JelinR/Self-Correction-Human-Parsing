{
 "cells": [
  {
   "cell_type": "markdown",
   "id": "793a3a02",
   "metadata": {},
   "source": [
    "### Download LIP Dataset"
   ]
  },
  {
   "cell_type": "code",
   "execution_count": null,
   "id": "a4682bfe",
   "metadata": {},
   "outputs": [
    {
     "name": "stderr",
     "output_type": "stream",
     "text": [
      "/mnt/anaconda3/envs/schp_mod/lib/python3.8/site-packages/tqdm/auto.py:21: TqdmWarning: IProgress not found. Please update jupyter and ipywidgets. See https://ipywidgets.readthedocs.io/en/stable/user_install.html\n",
      "  from .autonotebook import tqdm as notebook_tqdm\n"
     ]
    }
   ],
   "source": [
    "import kagglehub\n",
    "\n",
    "# path = kagglehub.dataset_download(\"roneoz/lip-dataset\")\n",
    "# path"
   ]
  },
  {
   "cell_type": "code",
   "execution_count": 9,
   "id": "31180c42",
   "metadata": {},
   "outputs": [
    {
     "name": "stdout",
     "output_type": "stream",
     "text": [
      "Num Files in train_images: 30462\n",
      "Num Files in train_segmentations: 30462\n",
      "Num Files in val_images: 10000\n",
      "Num Files in val_segmentations: 10000\n",
      "\n",
      "\n",
      "Num Image IDs in data/train_id.txt: 30462\n",
      "Num Image IDs in data/val_id.txt: 10000\n"
     ]
    }
   ],
   "source": [
    "import os\n",
    "\n",
    "check_path = \"data/\"\n",
    "\n",
    "check_dirs = [\"train_images\", \"train_segmentations\", \"val_images\", \"val_segmentations\"]\n",
    "for d in check_dirs:\n",
    "    dir_path = os.path.join(check_path, d)\n",
    "\n",
    "    print(f\"Num Files in {d}: {len(os.listdir(dir_path))}\")\n",
    "\n",
    "print(\"\\n\")\n",
    "\n",
    "check_txts = [\"train_id.txt\", \"val_id.txt\"]\n",
    "for t in check_txts:\n",
    "\n",
    "    txt_path = os.path.join(check_path, t)\n",
    "\n",
    "    with open(txt_path, \"r\") as f:\n",
    "        txt_data = f.readlines()\n",
    "\n",
    "    print(f\"Num Image IDs in {txt_path}: {len(txt_data)}\")"
   ]
  },
  {
   "cell_type": "code",
   "execution_count": null,
   "id": "2ed89b8d",
   "metadata": {},
   "outputs": [],
   "source": []
  }
 ],
 "metadata": {
  "kernelspec": {
   "display_name": "schp_mod",
   "language": "python",
   "name": "python3"
  },
  "language_info": {
   "codemirror_mode": {
    "name": "ipython",
    "version": 3
   },
   "file_extension": ".py",
   "mimetype": "text/x-python",
   "name": "python",
   "nbconvert_exporter": "python",
   "pygments_lexer": "ipython3",
   "version": "3.8.20"
  }
 },
 "nbformat": 4,
 "nbformat_minor": 5
}
